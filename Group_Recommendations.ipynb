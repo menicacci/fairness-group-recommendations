{
  "nbformat": 4,
  "nbformat_minor": 0,
  "metadata": {
    "colab": {
      "provenance": [],
      "authorship_tag": "ABX9TyOtTkqHLPLjFgZrDPzrkpj3",
      "include_colab_link": true
    },
    "kernelspec": {
      "name": "python3",
      "display_name": "Python 3"
    },
    "language_info": {
      "name": "python"
    }
  },
  "cells": [
    {
      "cell_type": "markdown",
      "metadata": {
        "id": "view-in-github",
        "colab_type": "text"
      },
      "source": [
        "<a href=\"https://colab.research.google.com/github/menicacci/fairness-group-recommendations/blob/main/Group_Recommendations.ipynb\" target=\"_parent\"><img src=\"https://colab.research.google.com/assets/colab-badge.svg\" alt=\"Open In Colab\"/></a>"
      ]
    },
    {
      "cell_type": "code",
      "execution_count": 1,
      "metadata": {
        "id": "3muXF-Vp_EEM"
      },
      "outputs": [],
      "source": [
        "import pandas as pd\n",
        "import numpy as np\n",
        "import random\n",
        "import statistics\n",
        "\n",
        "import sys\n",
        "sys.path.append('scripts')\n",
        "import recommender"
      ]
    },
    {
      "cell_type": "markdown",
      "source": [
        "Datasets: https://grouplens.org/datasets/movielens/"
      ],
      "metadata": {
        "id": "2VlqAMm8L_2N"
      }
    },
    {
      "cell_type": "code",
      "source": [
        "# Dataset loading\n",
        "data_dir = 'ml-latest-small'\n",
        "\n",
        "df_movies = pd.read_csv(f\"{data_dir}/movies.csv\")\n",
        "df_ratings = pd.read_csv(f\"{data_dir}/ratings.csv\")\n",
        "\n",
        "'''\n",
        "  Create a pandas df with a column for each value of the df[column_name] column (in this case reppresenting the movieId).\n",
        "  In this example, each row reppresents the ratings given by a user to the specific movie (NaN means rating unknown).\n",
        "'''\n",
        "df_user_based_cf = df_ratings.groupby('userId').apply(lambda x: x.set_index('movieId')['rating']).unstack(fill_value=np.nan)"
      ],
      "metadata": {
        "id": "tWRRBizK_O72"
      },
      "execution_count": 2,
      "outputs": []
    },
    {
      "cell_type": "code",
      "source": [
        "def find_nan_columns_in_group(df, group):\n",
        "  group_df = df.iloc[group]\n",
        "  nan_mask = group_df.isna()\n",
        "\n",
        "  nan_counts = nan_mask.sum(axis=0)\n",
        "\n",
        "  return nan_counts[nan_counts == len(group)].index.tolist()\n",
        "\n",
        "\n",
        "def random_distinct_indexes(df, num):\n",
        "  distinct_indexes = df.index.tolist()\n",
        "  random.shuffle(distinct_indexes)\n",
        "\n",
        "  return distinct_indexes[:num]"
      ],
      "metadata": {
        "id": "S-89ny5eNOBY"
      },
      "execution_count": 3,
      "outputs": []
    },
    {
      "cell_type": "code",
      "source": [
        "def average_aggregation(prediction_scores):\n",
        "  return statistics.mean(prediction_scores)\n",
        "\n",
        "\n",
        "def least_misery(prediction_scores):\n",
        "  return min(prediction_scores)\n",
        "\n",
        "\n",
        "def get_combined_predictions(group_predictions):\n",
        "  first_user_predictions = group_predictions[0]\n",
        "  combined_predictions = [[prediction[1], []] for prediction in first_user_predictions]\n",
        "\n",
        "  for user_predictions in group_predictions:\n",
        "    for i in range(len(user_predictions)):\n",
        "      combined_predictions[i][1].append(user_predictions[i][0])\n",
        "\n",
        "  return combined_predictions\n",
        "\n",
        "\n",
        "def get_group_recommendation(df, group, neighbourhood_size=50, predictions_size=10, group_score_function=average_aggregation, score_function=recommender.pearson_correlation):\n",
        "  group_neighbours = [recommender.get_neighborhood(df, target_user, neighbourhood_size, score_function) for target_user in group]\n",
        "\n",
        "  nan_columns = find_nan_columns_in_group(df, group)\n",
        "  group_predictions = [recommender.get_items_predictions_based_on_similarity(df, target_user, similar_users, nan_columns)\n",
        "                       for target_user, similar_users in zip(group, group_neighbours)\n",
        "                      ]\n",
        "\n",
        "  combined_predictions = get_combined_predictions(group_predictions)\n",
        "  for combined_prediction in combined_predictions:\n",
        "    combined_prediction.insert(0, group_score_function(combined_prediction[1]))\n",
        "\n",
        "  return recommender.get_top_k_predictions(combined_predictions, predictions_size)\n",
        "\n",
        "\n",
        "def get_group_recommendation_with_disagreements(df, group, neighbourhood_size=50, predictions_size=10, group_predictions_size=300, group_score_function=average_aggregation):\n",
        "  predictions = get_group_recommendation(df, group, neighbourhood_size, group_predictions_size, group_score_function=group_score_function)\n",
        "\n",
        "  group_size = len(group)\n",
        "  for prediction in predictions:\n",
        "    predicted_score = prediction[0]\n",
        "    users_predictions = prediction[2]\n",
        "    st_dev = statistics.stdev(prediction[2])\n",
        "\n",
        "    prediction[0] = ((1 / st_dev) ** (1 / group_size)) * predicted_score if st_dev > 0 else 0\n",
        "\n",
        "  sorted_predictions = sorted(predictions, key=lambda x: x[0], reverse=True)\n",
        "  return sorted_predictions[:predictions_size]"
      ],
      "metadata": {
        "id": "FtMq1DPL6pX8"
      },
      "execution_count": 4,
      "outputs": []
    },
    {
      "cell_type": "code",
      "source": [
        "users = random_distinct_indexes(df_user_based_cf, 3)\n",
        "\n",
        "standard_predictions = get_group_recommendation(df_user_based_cf, users, group_score_function=average_aggregation)\n",
        "predictions_with_disagrements = get_group_recommendation_with_disagreements(df_user_based_cf, users)"
      ],
      "metadata": {
        "id": "34_G2KEShhQ0"
      },
      "execution_count": 5,
      "outputs": []
    },
    {
      "cell_type": "code",
      "source": [
        "def float_approx(num):\n",
        "  return \"{:.2f}\".format(num)\n",
        "\n",
        "def float_list_approx(nums):\n",
        "  approximations = [float_approx(num) for num in nums]\n",
        "  return ', '.join(approximations)\n",
        "\n",
        "def print_group_predictions(group_predictions):\n",
        "  for prediction in group_predictions:\n",
        "    print(f\"Movie ID: {prediction[1]}\\tScore: [{float_approx(prediction[0])}]\\t Users' Predictions: [{float_list_approx(prediction[2])}]\")\n",
        "\n",
        "print(\"Prediction without considering disagreements\")\n",
        "print_group_predictions(standard_predictions)\n",
        "\n",
        "print(\"\\nPrediction considering disagreements\")\n",
        "print_group_predictions(predictions_with_disagrements)"
      ],
      "metadata": {
        "colab": {
          "base_uri": "https://localhost:8080/"
        },
        "id": "wKAzQQgVDXF2",
        "outputId": "b42b31b0-9543-4f89-d8ce-b35efedc8bd4"
      },
      "execution_count": 6,
      "outputs": [
        {
          "output_type": "stream",
          "name": "stdout",
          "text": [
            "Prediction without considering disagreements\n",
            "Movie ID: 1233\tScore: [4.64]\t Users' Predictions: [4.63, 5.13, 4.16]\n",
            "Movie ID: 1208\tScore: [4.57]\t Users' Predictions: [4.89, 4.78, 4.02]\n",
            "Movie ID: 58\tScore: [4.50]\t Users' Predictions: [4.81, 4.84, 3.86]\n",
            "Movie ID: 3972\tScore: [4.50]\t Users' Predictions: [3.53, 5.18, 4.79]\n",
            "Movie ID: 1374\tScore: [4.50]\t Users' Predictions: [4.05, 5.19, 4.25]\n",
            "Movie ID: 1912\tScore: [4.49]\t Users' Predictions: [4.51, 5.23, 3.74]\n",
            "Movie ID: 2716\tScore: [4.48]\t Users' Predictions: [4.27, 6.06, 3.11]\n",
            "Movie ID: 1250\tScore: [4.45]\t Users' Predictions: [3.55, 5.29, 4.51]\n",
            "Movie ID: 3469\tScore: [4.43]\t Users' Predictions: [3.82, 5.75, 3.73]\n",
            "Movie ID: 1673\tScore: [4.43]\t Users' Predictions: [3.79, 5.19, 4.32]\n",
            "\n",
            "Prediction considering disagreements\n",
            "Movie ID: 261\tScore: [12.19]\t Users' Predictions: [4.23, 4.27, 4.19]\n",
            "Movie ID: 1957\tScore: [8.77]\t Users' Predictions: [4.37, 4.20, 4.16]\n",
            "Movie ID: 1608\tScore: [8.69]\t Users' Predictions: [3.73, 3.81, 3.65]\n",
            "Movie ID: 3052\tScore: [8.48]\t Users' Predictions: [3.44, 3.52, 3.39]\n",
            "Movie ID: 6\tScore: [8.10]\t Users' Predictions: [4.37, 4.53, 4.21]\n",
            "Movie ID: 288\tScore: [8.00]\t Users' Predictions: [3.37, 3.31, 3.23]\n",
            "Movie ID: 207\tScore: [7.98]\t Users' Predictions: [3.84, 3.74, 3.96]\n",
            "Movie ID: 3354\tScore: [7.02]\t Users' Predictions: [3.37, 3.18, 3.33]\n",
            "Movie ID: 2802\tScore: [7.02]\t Users' Predictions: [3.14, 3.20, 3.33]\n",
            "Movie ID: 223\tScore: [6.96]\t Users' Predictions: [4.01, 4.15, 3.78]\n"
          ]
        }
      ]
    }
  ]
}