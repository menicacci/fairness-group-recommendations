{
 "nbformat": 4,
 "nbformat_minor": 0,
 "metadata": {
  "colab": {
   "provenance": [],
   "authorship_tag": "ABX9TyMNyivuAS22mC9g/0Yfr+tg",
   "include_colab_link": true
  },
  "kernelspec": {
   "name": "python3",
   "display_name": "Python 3"
  },
  "language_info": {
   "name": "python"
  }
 },
 "cells": [
  {
   "cell_type": "code",
   "execution_count": 1,
   "metadata": {
    "id": "3muXF-Vp_EEM",
    "pycharm": {
     "name": "#%%\n"
    }
   },
   "outputs": [],
   "source": [
    "import pandas as pd\n",
    "import math\n",
    "import heapq\n",
    "import numpy as np"
   ]
  },
  {
   "cell_type": "markdown",
   "source": [
    "Datasets: https://grouplens.org/datasets/movielens/"
   ],
   "metadata": {
    "id": "2VlqAMm8L_2N",
    "pycharm": {
     "name": "#%% md\n"
    }
   }
  },
  {
   "cell_type": "code",
   "source": [
    "# Dataset loading\n",
    "data_dir = '../ml-latest-small'\n",
    "\n",
    "df_movies = pd.read_csv(f\"{data_dir}/movies.csv\")\n",
    "df_ratings = pd.read_csv(f\"{data_dir}/ratings.csv\")\n",
    "\n",
    "# df_tags = pd.read_csv(r\"tags.csv\")\n",
    "# df_links = pd.read_csv(r\"links.csv\")"
   ],
   "metadata": {
    "id": "tWRRBizK_O72",
    "pycharm": {
     "name": "#%%\n"
    }
   },
   "execution_count": 2,
   "outputs": []
  },
  {
   "cell_type": "code",
   "source": [
    "df_movies.head()"
   ],
   "metadata": {
    "colab": {
     "base_uri": "https://localhost:8080/",
     "height": 206
    },
    "id": "Bo3wsC6T_3Sl",
    "outputId": "5b7766ec-46c6-433a-cac5-9583906b911b",
    "pycharm": {
     "name": "#%%\n"
    }
   },
   "execution_count": 3,
   "outputs": [
    {
     "data": {
      "text/plain": "   movieId                               title  \\\n0        1                    Toy Story (1995)   \n1        2                      Jumanji (1995)   \n2        3             Grumpier Old Men (1995)   \n3        4            Waiting to Exhale (1995)   \n4        5  Father of the Bride Part II (1995)   \n\n                                        genres  \n0  Adventure|Animation|Children|Comedy|Fantasy  \n1                   Adventure|Children|Fantasy  \n2                               Comedy|Romance  \n3                         Comedy|Drama|Romance  \n4                                       Comedy  ",
      "text/html": "<div>\n<style scoped>\n    .dataframe tbody tr th:only-of-type {\n        vertical-align: middle;\n    }\n\n    .dataframe tbody tr th {\n        vertical-align: top;\n    }\n\n    .dataframe thead th {\n        text-align: right;\n    }\n</style>\n<table border=\"1\" class=\"dataframe\">\n  <thead>\n    <tr style=\"text-align: right;\">\n      <th></th>\n      <th>movieId</th>\n      <th>title</th>\n      <th>genres</th>\n    </tr>\n  </thead>\n  <tbody>\n    <tr>\n      <th>0</th>\n      <td>1</td>\n      <td>Toy Story (1995)</td>\n      <td>Adventure|Animation|Children|Comedy|Fantasy</td>\n    </tr>\n    <tr>\n      <th>1</th>\n      <td>2</td>\n      <td>Jumanji (1995)</td>\n      <td>Adventure|Children|Fantasy</td>\n    </tr>\n    <tr>\n      <th>2</th>\n      <td>3</td>\n      <td>Grumpier Old Men (1995)</td>\n      <td>Comedy|Romance</td>\n    </tr>\n    <tr>\n      <th>3</th>\n      <td>4</td>\n      <td>Waiting to Exhale (1995)</td>\n      <td>Comedy|Drama|Romance</td>\n    </tr>\n    <tr>\n      <th>4</th>\n      <td>5</td>\n      <td>Father of the Bride Part II (1995)</td>\n      <td>Comedy</td>\n    </tr>\n  </tbody>\n</table>\n</div>"
     },
     "execution_count": 3,
     "metadata": {},
     "output_type": "execute_result"
    }
   ]
  },
  {
   "cell_type": "code",
   "source": [
    "df_ratings.head()"
   ],
   "metadata": {
    "colab": {
     "base_uri": "https://localhost:8080/",
     "height": 206
    },
    "id": "_6AP0RUn_6xH",
    "outputId": "a6a6f223-f6bf-408c-f81a-e3d1718c46d2",
    "pycharm": {
     "name": "#%%\n"
    }
   },
   "execution_count": 4,
   "outputs": [
    {
     "data": {
      "text/plain": "   userId  movieId  rating  timestamp\n0       1        1     4.0  964982703\n1       1        3     4.0  964981247\n2       1        6     4.0  964982224\n3       1       47     5.0  964983815\n4       1       50     5.0  964982931",
      "text/html": "<div>\n<style scoped>\n    .dataframe tbody tr th:only-of-type {\n        vertical-align: middle;\n    }\n\n    .dataframe tbody tr th {\n        vertical-align: top;\n    }\n\n    .dataframe thead th {\n        text-align: right;\n    }\n</style>\n<table border=\"1\" class=\"dataframe\">\n  <thead>\n    <tr style=\"text-align: right;\">\n      <th></th>\n      <th>userId</th>\n      <th>movieId</th>\n      <th>rating</th>\n      <th>timestamp</th>\n    </tr>\n  </thead>\n  <tbody>\n    <tr>\n      <th>0</th>\n      <td>1</td>\n      <td>1</td>\n      <td>4.0</td>\n      <td>964982703</td>\n    </tr>\n    <tr>\n      <th>1</th>\n      <td>1</td>\n      <td>3</td>\n      <td>4.0</td>\n      <td>964981247</td>\n    </tr>\n    <tr>\n      <th>2</th>\n      <td>1</td>\n      <td>6</td>\n      <td>4.0</td>\n      <td>964982224</td>\n    </tr>\n    <tr>\n      <th>3</th>\n      <td>1</td>\n      <td>47</td>\n      <td>5.0</td>\n      <td>964983815</td>\n    </tr>\n    <tr>\n      <th>4</th>\n      <td>1</td>\n      <td>50</td>\n      <td>5.0</td>\n      <td>964982931</td>\n    </tr>\n  </tbody>\n</table>\n</div>"
     },
     "execution_count": 4,
     "metadata": {},
     "output_type": "execute_result"
    }
   ]
  },
  {
   "cell_type": "code",
   "source": [
    "'''\n",
    "  Create a pandas df with a column for each value of the df[column_name] column (in this case reppresenting the movieId).\n",
    "  In this example, each row reppresents the ratings given by a user to the specific movie (NaN means rating unknown).\n",
    "'''\n",
    "df_user_based_cf = df_ratings.groupby('userId').apply(lambda x: x.set_index('movieId')['rating']).unstack(fill_value=np.nan)\n",
    "\n",
    "df_user_based_cf.head()"
   ],
   "metadata": {
    "id": "nSdq5_ftAVRc",
    "colab": {
     "base_uri": "https://localhost:8080/",
     "height": 267
    },
    "outputId": "e8c16fb3-472a-4294-8ff6-d776a2864078",
    "pycharm": {
     "name": "#%%\n"
    }
   },
   "execution_count": 5,
   "outputs": [
    {
     "data": {
      "text/plain": "movieId  1       2       3       4       5       6       7       8       \\\nuserId                                                                    \n1           4.0     NaN     4.0     NaN     NaN     4.0     NaN     NaN   \n2           NaN     NaN     NaN     NaN     NaN     NaN     NaN     NaN   \n3           NaN     NaN     NaN     NaN     NaN     NaN     NaN     NaN   \n4           NaN     NaN     NaN     NaN     NaN     NaN     NaN     NaN   \n5           4.0     NaN     NaN     NaN     NaN     NaN     NaN     NaN   \n\nmovieId  9       10      ...  193565  193567  193571  193573  193579  193581  \\\nuserId                   ...                                                   \n1           NaN     NaN  ...     NaN     NaN     NaN     NaN     NaN     NaN   \n2           NaN     NaN  ...     NaN     NaN     NaN     NaN     NaN     NaN   \n3           NaN     NaN  ...     NaN     NaN     NaN     NaN     NaN     NaN   \n4           NaN     NaN  ...     NaN     NaN     NaN     NaN     NaN     NaN   \n5           NaN     NaN  ...     NaN     NaN     NaN     NaN     NaN     NaN   \n\nmovieId  193583  193585  193587  193609  \nuserId                                   \n1           NaN     NaN     NaN     NaN  \n2           NaN     NaN     NaN     NaN  \n3           NaN     NaN     NaN     NaN  \n4           NaN     NaN     NaN     NaN  \n5           NaN     NaN     NaN     NaN  \n\n[5 rows x 9724 columns]",
      "text/html": "<div>\n<style scoped>\n    .dataframe tbody tr th:only-of-type {\n        vertical-align: middle;\n    }\n\n    .dataframe tbody tr th {\n        vertical-align: top;\n    }\n\n    .dataframe thead th {\n        text-align: right;\n    }\n</style>\n<table border=\"1\" class=\"dataframe\">\n  <thead>\n    <tr style=\"text-align: right;\">\n      <th>movieId</th>\n      <th>1</th>\n      <th>2</th>\n      <th>3</th>\n      <th>4</th>\n      <th>5</th>\n      <th>6</th>\n      <th>7</th>\n      <th>8</th>\n      <th>9</th>\n      <th>10</th>\n      <th>...</th>\n      <th>193565</th>\n      <th>193567</th>\n      <th>193571</th>\n      <th>193573</th>\n      <th>193579</th>\n      <th>193581</th>\n      <th>193583</th>\n      <th>193585</th>\n      <th>193587</th>\n      <th>193609</th>\n    </tr>\n    <tr>\n      <th>userId</th>\n      <th></th>\n      <th></th>\n      <th></th>\n      <th></th>\n      <th></th>\n      <th></th>\n      <th></th>\n      <th></th>\n      <th></th>\n      <th></th>\n      <th></th>\n      <th></th>\n      <th></th>\n      <th></th>\n      <th></th>\n      <th></th>\n      <th></th>\n      <th></th>\n      <th></th>\n      <th></th>\n      <th></th>\n    </tr>\n  </thead>\n  <tbody>\n    <tr>\n      <th>1</th>\n      <td>4.0</td>\n      <td>NaN</td>\n      <td>4.0</td>\n      <td>NaN</td>\n      <td>NaN</td>\n      <td>4.0</td>\n      <td>NaN</td>\n      <td>NaN</td>\n      <td>NaN</td>\n      <td>NaN</td>\n      <td>...</td>\n      <td>NaN</td>\n      <td>NaN</td>\n      <td>NaN</td>\n      <td>NaN</td>\n      <td>NaN</td>\n      <td>NaN</td>\n      <td>NaN</td>\n      <td>NaN</td>\n      <td>NaN</td>\n      <td>NaN</td>\n    </tr>\n    <tr>\n      <th>2</th>\n      <td>NaN</td>\n      <td>NaN</td>\n      <td>NaN</td>\n      <td>NaN</td>\n      <td>NaN</td>\n      <td>NaN</td>\n      <td>NaN</td>\n      <td>NaN</td>\n      <td>NaN</td>\n      <td>NaN</td>\n      <td>...</td>\n      <td>NaN</td>\n      <td>NaN</td>\n      <td>NaN</td>\n      <td>NaN</td>\n      <td>NaN</td>\n      <td>NaN</td>\n      <td>NaN</td>\n      <td>NaN</td>\n      <td>NaN</td>\n      <td>NaN</td>\n    </tr>\n    <tr>\n      <th>3</th>\n      <td>NaN</td>\n      <td>NaN</td>\n      <td>NaN</td>\n      <td>NaN</td>\n      <td>NaN</td>\n      <td>NaN</td>\n      <td>NaN</td>\n      <td>NaN</td>\n      <td>NaN</td>\n      <td>NaN</td>\n      <td>...</td>\n      <td>NaN</td>\n      <td>NaN</td>\n      <td>NaN</td>\n      <td>NaN</td>\n      <td>NaN</td>\n      <td>NaN</td>\n      <td>NaN</td>\n      <td>NaN</td>\n      <td>NaN</td>\n      <td>NaN</td>\n    </tr>\n    <tr>\n      <th>4</th>\n      <td>NaN</td>\n      <td>NaN</td>\n      <td>NaN</td>\n      <td>NaN</td>\n      <td>NaN</td>\n      <td>NaN</td>\n      <td>NaN</td>\n      <td>NaN</td>\n      <td>NaN</td>\n      <td>NaN</td>\n      <td>...</td>\n      <td>NaN</td>\n      <td>NaN</td>\n      <td>NaN</td>\n      <td>NaN</td>\n      <td>NaN</td>\n      <td>NaN</td>\n      <td>NaN</td>\n      <td>NaN</td>\n      <td>NaN</td>\n      <td>NaN</td>\n    </tr>\n    <tr>\n      <th>5</th>\n      <td>4.0</td>\n      <td>NaN</td>\n      <td>NaN</td>\n      <td>NaN</td>\n      <td>NaN</td>\n      <td>NaN</td>\n      <td>NaN</td>\n      <td>NaN</td>\n      <td>NaN</td>\n      <td>NaN</td>\n      <td>...</td>\n      <td>NaN</td>\n      <td>NaN</td>\n      <td>NaN</td>\n      <td>NaN</td>\n      <td>NaN</td>\n      <td>NaN</td>\n      <td>NaN</td>\n      <td>NaN</td>\n      <td>NaN</td>\n      <td>NaN</td>\n    </tr>\n  </tbody>\n</table>\n<p>5 rows × 9724 columns</p>\n</div>"
     },
     "execution_count": 5,
     "metadata": {},
     "output_type": "execute_result"
    }
   ]
  },
  {
   "cell_type": "code",
   "source": [
    "'''\n",
    "  Takes as input a pandas df and two row indexes.\n",
    "  For a given column c, if df[row_idx1] and df[row_idx2] are both populated, the pair will be included in the output array.\n",
    "  If the indexes are the same, it returns an empty array\n",
    "'''\n",
    "def find_non_null_column_pairs(df, row_idx1, row_idx2):\n",
    "  if row_idx1 == row_idx2:\n",
    "    return []\n",
    "\n",
    "  row1 = df.iloc[row_idx1].values\n",
    "  row2 = df.iloc[row_idx2].values\n",
    "\n",
    "  non_null_mask = ~np.isnan(row1) & ~np.isnan(row2)\n",
    "  return [(val1, val2) for val1, val2 in zip(row1[non_null_mask], row2[non_null_mask])]\n",
    "\n",
    "\n",
    "'''\n",
    "  Calculates the average value of a row (excluding NaN values)\n",
    "'''\n",
    "def average_value(df, row_idx):\n",
    "  return np.nanmean(df.iloc[row_idx].to_numpy())\n",
    "\n",
    "\n",
    "'''\n",
    "  Takes as input a pandas df and two row indexes.\n",
    "  Calculates the peason correlation between two items.\n",
    "'''\n",
    "def pearson_correlation(df, row_idx1, row_idx2):\n",
    "  common_items = find_non_null_column_pairs(df, row_idx1, row_idx2)\n",
    "  if not common_items:\n",
    "    return 0\n",
    "\n",
    "  mean_1 = average_value(df, row_idx1)\n",
    "  mean_2 = average_value(df, row_idx2)\n",
    "\n",
    "  n = sum((item[0] - mean_1) * (item[1] - mean_2) for item in common_items)\n",
    "  d1 = math.sqrt(sum((item[0] - mean_1)**2 for item in common_items))\n",
    "  d2 = math.sqrt(sum((item[1] - mean_2)**2 for item in common_items))\n",
    "\n",
    "  return n / (d1 * d2) if (d1 != 0 and d2 != 0) else 0\n",
    "\n",
    "\n",
    "'''\n",
    "  Takes as input a pandas df and two row indexes.\n",
    "  Calculates the cosine similarity between two items.\n",
    "'''\n",
    "def cosine_similarity(df, row_idx1, row_idx2):\n",
    "    common_items = find_non_null_column_pairs(df, row_idx1, row_idx2)\n",
    "    if not common_items:\n",
    "        return 0\n",
    "\n",
    "    dot_product = sum(item[0] * item[1] for item in common_items)\n",
    "    magnitude1 = math.sqrt(sum(item[0] ** 2 for item in common_items))\n",
    "    magnitude2 = math.sqrt(sum(item[1] ** 2 for item in common_items))\n",
    "\n",
    "    return dot_product / (magnitude1 * magnitude2) if (magnitude1 != 0 and magnitude2 != 0) else 0\n",
    "\n",
    "\n",
    "'''\n",
    "  Takes as input a pandas df, the index of the target user, the size of the neighbourhood and a score function.\n",
    "  Returns the neighbourhood that maximizes the score function ordered by the score itself.\n",
    "  Output type: [(a, b), ...] -> a: item score, b: item index.\n",
    "'''\n",
    "def get_neighborhood(df, target_idx, size, score_function=pearson_correlation):\n",
    "  top_scores_heap = []\n",
    "\n",
    "  for row_idx in range(len(df)):\n",
    "    score = score_function(df, target_idx, row_idx)\n",
    "    heapq.heappush(top_scores_heap, (score, row_idx))\n",
    "\n",
    "    if len(top_scores_heap) > size:\n",
    "      heapq.heappop(top_scores_heap)\n",
    "\n",
    "  return sorted(top_scores_heap, key=lambda x: x[0], reverse=True)"
   ],
   "metadata": {
    "id": "KeeQxAf7SR--",
    "pycharm": {
     "name": "#%%\n"
    }
   },
   "execution_count": 6,
   "outputs": []
  },
  {
   "cell_type": "code",
   "source": [
    "# Find similar users\n",
    "neighbourhood_size = 20\n",
    "user_idx = 17\n",
    "\n",
    "similar_users = get_neighborhood(df_user_based_cf, user_idx, neighbourhood_size)"
   ],
   "metadata": {
    "id": "YQnyU7xfSSss",
    "pycharm": {
     "name": "#%%\n"
    }
   },
   "execution_count": 7,
   "outputs": []
  },
  {
   "cell_type": "code",
   "source": [
    "for user in similar_users:\n",
    "  similarity_score = \"{:.2f}\".format(user[0])\n",
    "  print(f\"Similarity Score: [{similarity_score}]\\t User ID: [{user[1] + 1}]\")"
   ],
   "metadata": {
    "id": "xJewNvBpHP0J",
    "colab": {
     "base_uri": "https://localhost:8080/"
    },
    "outputId": "651ec5b4-ed2e-4516-f6f3-2f9fba113126",
    "pycharm": {
     "name": "#%%\n"
    }
   },
   "execution_count": 8,
   "outputs": [
    {
     "name": "stdout",
     "output_type": "stream",
     "text": [
      "Similarity Score: [1.00]\t User ID: [545]\n",
      "Similarity Score: [1.00]\t User ID: [207]\n",
      "Similarity Score: [1.00]\t User ID: [397]\n",
      "Similarity Score: [1.00]\t User ID: [12]\n",
      "Similarity Score: [0.98]\t User ID: [547]\n",
      "Similarity Score: [0.96]\t User ID: [13]\n",
      "Similarity Score: [0.93]\t User ID: [296]\n",
      "Similarity Score: [0.90]\t User ID: [87]\n",
      "Similarity Score: [0.90]\t User ID: [595]\n",
      "Similarity Score: [0.87]\t User ID: [403]\n",
      "Similarity Score: [0.85]\t User ID: [568]\n",
      "Similarity Score: [0.85]\t User ID: [499]\n",
      "Similarity Score: [0.85]\t User ID: [85]\n",
      "Similarity Score: [0.83]\t User ID: [575]\n",
      "Similarity Score: [0.83]\t User ID: [35]\n",
      "Similarity Score: [0.82]\t User ID: [478]\n",
      "Similarity Score: [0.82]\t User ID: [180]\n",
      "Similarity Score: [0.78]\t User ID: [55]\n",
      "Similarity Score: [0.78]\t User ID: [278]\n",
      "Similarity Score: [0.78]\t User ID: [299]\n"
     ]
    }
   ]
  },
  {
   "cell_type": "code",
   "source": [
    "'''\n",
    "  Takes as input a pandas df, a column value, a list of neighbours and the mean of the target user's row values.\n",
    "  Returns a prediction score for the target user.\n",
    "  Neighbour's list structure: [(a, b, c), ...] -> a: score, b: index, c: mean\n",
    "'''\n",
    "def get_prediction_score(df_values, valid_indexes, column, similar_items, target_mean):\n",
    "  item_similarities = similar_items[:, 0]\n",
    "  item_means = similar_items[:, 2]\n",
    "\n",
    "  n = np.sum(item_similarities[valid_indexes] * (df_values - item_means[valid_indexes]))\n",
    "  d = np.sum(np.abs(item_similarities[valid_indexes]))\n",
    "\n",
    "  return target_mean + (n / d) if d != 0 else 0\n",
    "\n",
    "\n",
    "def refactor_similarities(df, similar_users):\n",
    "  similar_users = [(similar_user[0], similar_user[1], average_value(df, similar_user[1])) for similar_user in similar_users]\n",
    "  similar_users = np.array(similar_users, dtype=float)\n",
    "  similar_users[:, 1] = similar_users[:, 1].astype(int)\n",
    "\n",
    "  return similar_users\n",
    "\n",
    "\n",
    "'''\n",
    "  Takes as input a pandas df, a target user index, a list of neighbours and a list of items to predict the rating.\n",
    "  Returns a list of items and their predicted rating.\n",
    "  Output type: [(a, b), ...] -> a: predicted rating, b: item index.\n",
    "'''\n",
    "def get_items_predictions_based_on_similarity(df, target_user, similar_users, columns):\n",
    "  predictions = []\n",
    "\n",
    "  similar_users = refactor_similarities(df, similar_users)\n",
    "  target_user_mean = average_value(df, target_user)\n",
    "\n",
    "  df_values = df.iloc[similar_users[:, 1]][columns].values\n",
    "  nan_indexes = np.isnan(df_values)\n",
    "  for i, column in enumerate(columns):\n",
    "    valid_indexes = ~nan_indexes[:, i]\n",
    "    valid_values = df_values[valid_indexes, i]\n",
    "\n",
    "    prediction_score = get_prediction_score(valid_values, valid_indexes, column, similar_users, target_user_mean)\n",
    "    predictions.append((prediction_score, column))\n",
    "\n",
    "  return predictions\n",
    "\n",
    "\n",
    "'''\n",
    "  Takes as input a pandas df, a target user index, a list of neighbours and the desired output list length.\n",
    "  Returns a list of items with the highest predicted rating, with the rating as well.\n",
    "  Output type: [(a, b), ...] -> a: predicted rating, b: item index.\n",
    "'''\n",
    "def get_recommendations_based_on_similarity(df, target_user, similar_users, recommendation_size):\n",
    "  user_row = df.iloc[target_user]\n",
    "  user_nan_columns = user_row[user_row.isna()].index.tolist()\n",
    "\n",
    "  top_predictions = []\n",
    "  predictions = get_items_predictions_based_on_similarity(df, target_user, similar_users, user_nan_columns)\n",
    "  for prediction in predictions:\n",
    "    heapq.heappush(top_predictions, prediction)\n",
    "\n",
    "    if len(top_predictions) > recommendation_size:\n",
    "      heapq.heappop(top_predictions)\n",
    "\n",
    "  return sorted(top_predictions, key=lambda x: x[0], reverse=True)\n",
    "\n",
    "\n",
    "'''\n",
    "  Returns a list of predictions for a user\n",
    "'''\n",
    "def get_predictions(df, target_user, neighbourhood_size=20, predictions_size=10, score_function=pearson_correlation):\n",
    "  similar_users = get_neighborhood(df, target_user, neighbourhood_size, score_function)\n",
    "  predictions = get_recommendations_based_on_similarity(df, target_user, similar_users, predictions_size)\n",
    "\n",
    "  return predictions"
   ],
   "metadata": {
    "id": "R9YSiK0oI87E",
    "pycharm": {
     "name": "#%%\n"
    }
   },
   "execution_count": 9,
   "outputs": []
  },
  {
   "cell_type": "code",
   "source": [
    "target_user = 51\n",
    "prediction_size = 10\n",
    "neighbourhood_size = 50\n",
    "\n",
    "predictions = get_predictions(df_user_based_cf, target_user, neighbourhood_size, prediction_size, pearson_correlation)"
   ],
   "metadata": {
    "id": "X0gcpkrO1-rY",
    "pycharm": {
     "name": "#%%\n"
    }
   },
   "execution_count": 10,
   "outputs": []
  },
  {
   "cell_type": "code",
   "source": [
    "for prediction in predictions:\n",
    "  predicted_score = \"{:.2f}\".format(prediction[0])\n",
    "  print(f\"Predicted Rating: [{predicted_score}]\\tMovie ID: {prediction[1]}\")"
   ],
   "metadata": {
    "colab": {
     "base_uri": "https://localhost:8080/"
    },
    "id": "qunmw0PPpWHl",
    "outputId": "0a95cc79-a00a-4ff7-b929-a43bfb95a2a7",
    "pycharm": {
     "name": "#%%\n"
    }
   },
   "execution_count": 11,
   "outputs": [
    {
     "name": "stdout",
     "output_type": "stream",
     "text": [
      "Predicted Rating: [6.81]\tMovie ID: 2700\n",
      "Predicted Rating: [6.64]\tMovie ID: 5992\n",
      "Predicted Rating: [6.39]\tMovie ID: 3543\n",
      "Predicted Rating: [6.34]\tMovie ID: 3347\n",
      "Predicted Rating: [6.31]\tMovie ID: 1259\n",
      "Predicted Rating: [6.31]\tMovie ID: 2622\n",
      "Predicted Rating: [6.31]\tMovie ID: 430\n",
      "Predicted Rating: [6.29]\tMovie ID: 305\n",
      "Predicted Rating: [6.29]\tMovie ID: 551\n",
      "Predicted Rating: [6.22]\tMovie ID: 109487\n"
     ]
    }
   ]
  }
 ]
}