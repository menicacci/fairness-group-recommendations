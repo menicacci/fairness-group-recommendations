{
 "nbformat": 4,
 "nbformat_minor": 0,
 "metadata": {
  "colab": {
   "provenance": [],
   "authorship_tag": "ABX9TyOtTkqHLPLjFgZrDPzrkpj3",
   "include_colab_link": true
  },
  "kernelspec": {
   "name": "python3",
   "display_name": "Python 3"
  },
  "language_info": {
   "name": "python"
  }
 },
 "cells": [
  {
   "cell_type": "code",
   "execution_count": 1,
   "metadata": {
    "id": "3muXF-Vp_EEM",
    "pycharm": {
     "name": "#%%\n"
    }
   },
   "outputs": [],
   "source": [
    "import pandas as pd\n",
    "import numpy as np\n",
    "import random\n",
    "import statistics\n",
    "\n",
    "import sys\n",
    "sys.path.append('../scripts')\n",
    "import recommender"
   ]
  },
  {
   "cell_type": "markdown",
   "source": [
    "Datasets: https://grouplens.org/datasets/movielens/"
   ],
   "metadata": {
    "id": "2VlqAMm8L_2N",
    "pycharm": {
     "name": "#%% md\n"
    }
   }
  },
  {
   "cell_type": "code",
   "source": [
    "# Dataset loading\n",
    "data_dir = '../ml-latest-small'\n",
    "\n",
    "df_movies = pd.read_csv(f\"{data_dir}/movies.csv\")\n",
    "df_ratings = pd.read_csv(f\"{data_dir}/ratings.csv\")\n",
    "\n",
    "'''\n",
    "  Create a pandas df with a column for each value of the df[column_name] column (in this case reppresenting the movieId).\n",
    "  In this example, each row reppresents the ratings given by a user to the specific movie (NaN means rating unknown).\n",
    "'''\n",
    "df_user_based_cf = df_ratings.groupby('userId').apply(lambda x: x.set_index('movieId')['rating']).unstack(fill_value=np.nan)"
   ],
   "metadata": {
    "id": "tWRRBizK_O72",
    "pycharm": {
     "name": "#%%\n"
    }
   },
   "execution_count": 2,
   "outputs": []
  },
  {
   "cell_type": "code",
   "source": [
    "def find_nan_columns_in_group(df, group):\n",
    "  group_df = df.iloc[group]\n",
    "  nan_mask = group_df.isna()\n",
    "\n",
    "  nan_counts = nan_mask.sum(axis=0)\n",
    "\n",
    "  return nan_counts[nan_counts == len(group)].index.tolist()\n",
    "\n",
    "\n",
    "def random_distinct_indexes(df, num):\n",
    "  distinct_indexes = df.index.tolist()\n",
    "  random.shuffle(distinct_indexes)\n",
    "\n",
    "  return distinct_indexes[:num]"
   ],
   "metadata": {
    "id": "S-89ny5eNOBY",
    "pycharm": {
     "name": "#%%\n"
    }
   },
   "execution_count": 3,
   "outputs": []
  },
  {
   "cell_type": "code",
   "source": [
    "def average_aggregation(prediction_scores):\n",
    "  return statistics.mean(prediction_scores)\n",
    "\n",
    "\n",
    "def least_misery(prediction_scores):\n",
    "  return min(prediction_scores)\n",
    "\n",
    "\n",
    "def get_combined_predictions(group_predictions):\n",
    "  first_user_predictions = group_predictions[0]\n",
    "  combined_predictions = [[prediction[1], []] for prediction in first_user_predictions]\n",
    "\n",
    "  for user_predictions in group_predictions:\n",
    "    for i in range(len(user_predictions)):\n",
    "      combined_predictions[i][1].append(user_predictions[i][0])\n",
    "\n",
    "  return combined_predictions\n",
    "\n",
    "\n",
    "def get_group_recommendation(df, group, neighbourhood_size=50, predictions_size=10, group_score_function=average_aggregation, score_function=recommender.pearson_correlation):\n",
    "  group_neighbours = [recommender.get_neighborhood(df, target_user, neighbourhood_size, score_function) for target_user in group]\n",
    "\n",
    "  nan_columns = find_nan_columns_in_group(df, group)\n",
    "  group_predictions = [recommender.get_items_predictions_based_on_similarity(df, target_user, similar_users, nan_columns)\n",
    "                       for target_user, similar_users in zip(group, group_neighbours)\n",
    "                      ]\n",
    "\n",
    "  combined_predictions = get_combined_predictions(group_predictions)\n",
    "  for combined_prediction in combined_predictions:\n",
    "    combined_prediction.insert(0, group_score_function(combined_prediction[1]))\n",
    "\n",
    "  return recommender.get_top_k_predictions(combined_predictions, predictions_size)\n",
    "\n",
    "\n",
    "def get_group_recommendation_with_disagreements(df, group, neighbourhood_size=50, predictions_size=10, group_predictions_size=300, group_score_function=average_aggregation):\n",
    "  predictions = get_group_recommendation(df, group, neighbourhood_size, group_predictions_size, group_score_function=group_score_function)\n",
    "\n",
    "  group_size = len(group)\n",
    "  for prediction in predictions:\n",
    "    predicted_score = prediction[0]\n",
    "    users_predictions = prediction[2]\n",
    "    st_dev = statistics.stdev(users_predictions)\n",
    "\n",
    "    prediction[0] = ((1 / st_dev) ** (1 / group_size)) * predicted_score if st_dev > 0 else 0\n",
    "\n",
    "  return recommender.get_top_k_predictions(predictions, predictions_size)"
   ],
   "metadata": {
    "id": "FtMq1DPL6pX8",
    "pycharm": {
     "name": "#%%\n"
    }
   },
   "execution_count": 4,
   "outputs": []
  },
  {
   "cell_type": "code",
   "source": [
    "users = random_distinct_indexes(df_user_based_cf, 3)\n",
    "\n",
    "standard_predictions = get_group_recommendation(df_user_based_cf, users, group_score_function=average_aggregation)\n",
    "predictions_with_disagrements = get_group_recommendation_with_disagreements(df_user_based_cf, users)"
   ],
   "metadata": {
    "id": "34_G2KEShhQ0",
    "pycharm": {
     "name": "#%%\n"
    }
   },
   "execution_count": 5,
   "outputs": []
  },
  {
   "cell_type": "code",
   "source": [
    "def float_approx(num):\n",
    "  return \"{:.2f}\".format(num)\n",
    "\n",
    "def float_list_approx(nums):\n",
    "  approximations = [float_approx(num) for num in nums]\n",
    "  return ', '.join(approximations)\n",
    "\n",
    "def print_group_predictions(group_predictions):\n",
    "    max_id_length = max(len(str(prediction[1])) for prediction in group_predictions)\n",
    "\n",
    "    for prediction in group_predictions:\n",
    "        movie_id = prediction[1]\n",
    "        predicted_score = float_approx(prediction[0])\n",
    "        user_predictions = float_list_approx(prediction[2])\n",
    "        print(f\"Movie ID: {movie_id:<{max_id_length}}\\tScore: [{predicted_score}]\\t Users' Predictions: [{user_predictions}]\")\n",
    "\n",
    "print(\"Prediction without considering disagreements\")\n",
    "print_group_predictions(standard_predictions)\n",
    "\n",
    "print(\"\\nPrediction considering disagreements\")\n",
    "print_group_predictions(predictions_with_disagrements)"
   ],
   "metadata": {
    "colab": {
     "base_uri": "https://localhost:8080/"
    },
    "id": "wKAzQQgVDXF2",
    "outputId": "b42b31b0-9543-4f89-d8ce-b35efedc8bd4",
    "pycharm": {
     "name": "#%%\n"
    }
   },
   "execution_count": 6,
   "outputs": [
    {
     "name": "stdout",
     "output_type": "stream",
     "text": [
      "Prediction without considering disagreements\n",
      "Movie ID: 3972\tScore: [5.75]\t Users' Predictions: [5.59, 6.55, 5.11]\n",
      "Movie ID: 1394\tScore: [5.28]\t Users' Predictions: [4.59, 5.71, 5.53]\n",
      "Movie ID: 1259\tScore: [5.18]\t Users' Predictions: [5.29, 5.54, 4.72]\n",
      "Movie ID: 750 \tScore: [5.14]\t Users' Predictions: [4.52, 6.29, 4.61]\n",
      "Movie ID: 3471\tScore: [5.12]\t Users' Predictions: [4.81, 5.61, 4.94]\n",
      "Movie ID: 4034\tScore: [5.11]\t Users' Predictions: [4.39, 5.85, 5.10]\n",
      "Movie ID: 2289\tScore: [5.11]\t Users' Predictions: [5.63, 4.60, 5.09]\n",
      "Movie ID: 1616\tScore: [5.04]\t Users' Predictions: [4.13, 5.73, 5.27]\n",
      "Movie ID: 3499\tScore: [5.04]\t Users' Predictions: [4.55, 5.52, 5.06]\n",
      "Movie ID: 3727\tScore: [5.00]\t Users' Predictions: [4.90, 5.86, 4.25]\n",
      "\n",
      "Prediction considering disagreements\n",
      "Movie ID: 1103\tScore: [13.52]\t Users' Predictions: [3.73, 3.73, 3.70]\n",
      "Movie ID: 2431\tScore: [10.61]\t Users' Predictions: [4.32, 4.34, 4.22]\n",
      "Movie ID: 3053\tScore: [8.50]\t Users' Predictions: [3.51, 3.63, 3.50]\n",
      "Movie ID: 1997\tScore: [7.57]\t Users' Predictions: [4.19, 4.54, 4.25]\n",
      "Movie ID: 2581\tScore: [7.32]\t Users' Predictions: [4.21, 4.08, 4.46]\n",
      "Movie ID: 1345\tScore: [7.18]\t Users' Predictions: [3.88, 4.24, 4.04]\n",
      "Movie ID: 1259\tScore: [6.92]\t Users' Predictions: [5.29, 5.54, 4.72]\n",
      "Movie ID: 3471\tScore: [6.79]\t Users' Predictions: [4.81, 5.61, 4.94]\n",
      "Movie ID: 3006\tScore: [6.69]\t Users' Predictions: [4.47, 4.97, 4.36]\n",
      "Movie ID: 2805\tScore: [6.61]\t Users' Predictions: [3.45, 3.45, 3.72]\n"
     ]
    }
   ]
  }
 ]
}